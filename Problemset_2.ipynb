{
 "cells": [
  {
   "cell_type": "markdown",
   "metadata": {},
   "source": [
    "# Problem set 2\n",
    "\n",
    "A lot of the phenomena around us or relationships of any kind may be mapped to networks. Often graphs, the mathematical objects, help structural and functional analysis of these networks.\n",
    "\n",
    "In this problem set we are interested in the citation network. Visit [aMiner](https://aminer.org/citation) for input data.\n",
    "\n",
    "## Problem 2.1\n",
    "\n",
    "Reconstruct the scitation graphs based on these data. Analize those graphs. Besides the usual graph metrics for the _whole_ graph try to see if you can say something about temporal evolution.\n",
    "Define various strategies for node removal and see how the _whole_ graph degrades.\n",
    "Discuss what you find.\n",
    "\n",
    "## Problem 2.2 (optional)\n",
    "\n",
    "Design and implement a crawler to download meta information about articles. You may choose to query [scholar](https://scholar.google.com/) or [arXiv](https://arxiv.org/). The former indexes scientific articles, the latter gives open access to more than a million of e-prints in various fields of science.\n",
    "\n",
    "Try to collect properties like:\n",
    "* date of submission\n",
    "* the list of articles cited\n",
    "* the list of authors\n",
    "* the field of science\n",
    "* the title of the artice\n",
    "\n",
    "Reconstruct the citation graph and carry out analisys as in Problemset 2.1. Discuss your findings."
   ]
  },
  {
   "cell_type": "code",
   "execution_count": 1,
   "metadata": {},
   "outputs": [],
   "source": [
    "import matplotlib as mpl\n",
    "from matplotlib import pyplot as plt\n",
    "import numpy as np\n",
    "import networkx as nx"
   ]
  },
  {
   "cell_type": "markdown",
   "metadata": {},
   "source": [
    "# Downloading data"
   ]
  },
  {
   "cell_type": "code",
   "execution_count": 2,
   "metadata": {},
   "outputs": [
    {
     "name": "stdout",
     "output_type": "stream",
     "text": [
      "  % Total    % Received % Xferd  Average Speed   Time    Time     Time  Current\n",
      "                                 Dload  Upload   Total   Spent    Left  Speed\n",
      "100  126M  100  126M    0     0  5854k      0  0:00:22  0:00:22 --:--:-- 8619k\n"
     ]
    }
   ],
   "source": [
    "!/bin/bash -c 'if [[ ! -d data ]]; then mkdir data; fi'\n",
    "!/bin/bash -c 'if [[ ! -f data/citation-network1.zip ]]; then curl http://aminer.org/lab-datasets/citation/citation-network1.zip -o ./data/citation-network1.zip; fi'"
   ]
  },
  {
   "cell_type": "code",
   "execution_count": 3,
   "metadata": {},
   "outputs": [
    {
     "name": "stdout",
     "output_type": "stream",
     "text": [
      "Archive:  citation-network1.zip\n",
      "  inflating: outputacm.txt           \n"
     ]
    }
   ],
   "source": [
    "!/bin/bash -c 'if [[ ! -f data/outputacm.txt ]]; then cd data && unzip -o citation-network1.zip; fi'"
   ]
  },
  {
   "cell_type": "code",
   "execution_count": 4,
   "metadata": {},
   "outputs": [
    {
     "name": "stdout",
     "output_type": "stream",
     "text": [
      "total 484M\r\n",
      "drwxrwxr-x 2 dnagy dnagy 4.0K Dec 11 22:39 .\r\n",
      "drwxrwxr-x 8 dnagy dnagy 4.0K Dec 11 22:39 ..\r\n",
      "-rw-rw-r-- 1 dnagy dnagy 127M Dec 11 22:39 citation-network1.zip\r\n",
      "-rw-rw-r-- 1 dnagy dnagy 358M Apr 11  2010 outputacm.txt\r\n"
     ]
    }
   ],
   "source": [
    "!ls -lah data"
   ]
  },
  {
   "cell_type": "code",
   "execution_count": 5,
   "metadata": {},
   "outputs": [],
   "source": [
    "\"\"\"\n",
    "DATA FORMAT:\n",
    "#* --- paperTitle\n",
    "#@ --- Authors\n",
    "#t ---- Year\n",
    "#c  --- publication venue\n",
    "#index 00---- index id of this paper\n",
    "#% ---- the id of references of this paper (there are multiple lines, with each indicating a reference)\n",
    "#! --- Abstract\n",
    "\n",
    "The following is an example:\n",
    "\n",
    "#*Information geometry of U-Boost and Bregman divergence\n",
    "#@Noboru Murata,Takashi Takenouchi,Takafumi Kanamori,Shinto Eguchi\n",
    "#t2004\n",
    "#cNeural Computation\n",
    "#index436405\n",
    "#%94584\n",
    "#%282290\n",
    "#%605546\n",
    "#%620759\n",
    "#%564877\n",
    "#%564235\n",
    "#%594837\n",
    "#%479177\n",
    "#%586607\n",
    "#!We aim at an extension of AdaBoost to U-Boost, in the paradigm to build a stronger classification machine from a set of weak learning machines. A geometric understanding of the Bregman divergence defined by a generic convex function U leads to the U-Boost method in the framework of information geometry extended to the space of the finite measures over a label set. We propose two versions of U-Boost learning algorithms by taking account of whether the domain is restricted to the space of probability functions. In the sequential step, we observe that the two adjacent and the initial classifiers are associated with a right triangle in the scale via the Bregman divergence, called the Pythagorean relation. This leads to a mild convergence property of the U-Boost algorithm as seen in the expectation-maximization algorithm. Statistical discussions for consistency and robustness elucidate the properties of the U-Boost methods based on a stochastic assumption for training data.\n",
    "\"\"\";"
   ]
  },
  {
   "cell_type": "code",
   "execution_count": 6,
   "metadata": {},
   "outputs": [],
   "source": [
    "TAG_TITLE='#*'\n",
    "TAG_AUTHORS='#@'\n",
    "TAG_YEAR='#t'\n",
    "TAG_VENUE='#c'\n",
    "TAG_IDX='#index'\n",
    "TAG_REF='#%'\n",
    "TAG_ABS='#!'"
   ]
  },
  {
   "cell_type": "code",
   "execution_count": 7,
   "metadata": {},
   "outputs": [
    {
     "name": "stdout",
     "output_type": "stream",
     "text": [
      "#cPattern Recognition\n",
      "#index53\n",
      "#%159598\n",
      "#%603894\n",
      "#%586607\n",
      "#%471174\n",
      "#%87254\n",
      "#%302739\n",
      "#%449562\n",
      "#!The polynomial classifier (PC) that takes the binomial terms of reduced subspace features as inputs has shown superior performance to multilayer neural networks in pattern classification. In this paper, we propose a class-specific feature polynomial classifier (CFPC) that extracts class-specific features from class-specific subspaces, unlike the ordinary PC that uses a class-independent subspace. The CFPC can be viewed as a hybrid of ordinary PC and projection distance method. The class-specific features better separate one class from the others, and the incorporation of class-specific projection distance further improves the separability. The connecting weights of CFPC are efficiently learned class-by-class to minimize the mean square error on training samples. To justify the promise of CFPC, we have conducted experiments of handwritten digit recognition and numeral string recognition on the NIST Special Database 19 (SD19). The digit recognition task was also benchmarked on two standard databases USPS and MNIST. The results show that the performance of CFPC is superior to that of ordinary PC, and is competitive with support vector classifiers (SVCs).\n",
      "\n"
     ]
    }
   ],
   "source": [
    "# Print first few lines from the downloaded data\n",
    "datafile='./data/outputacm.txt'\n",
    "lines = []\n",
    "N=363 #2497 # process 2497 lines\n",
    "with open(datafile, \"r\") as f:\n",
    "    for idx, line in enumerate(f):\n",
    "        if idx<N:\n",
    "            lines.append(line)\n",
    "        else:\n",
    "            break\n",
    "print(''.join(lines[-10:]))"
   ]
  },
  {
   "cell_type": "code",
   "execution_count": 8,
   "metadata": {},
   "outputs": [],
   "source": [
    "\"\"\"\n",
    "What we see:\n",
    "- the first line contains the number of records\n",
    "- the records are indexed from 0\n",
    "- the records are separated by a newline\n",
    "\"\"\";"
   ]
  },
  {
   "cell_type": "code",
   "execution_count": 9,
   "metadata": {},
   "outputs": [
    {
     "data": {
      "text/plain": [
       "629814"
      ]
     },
     "execution_count": 9,
     "metadata": {},
     "output_type": "execute_result"
    }
   ],
   "source": [
    "N_records = int(lines.pop(0))\n",
    "N_records"
   ]
  },
  {
   "cell_type": "code",
   "execution_count": 10,
   "metadata": {},
   "outputs": [
    {
     "name": "stdout",
     "output_type": "stream",
     "text": [
      "54\n",
      "#*Automated Deduction in Geometry: 5th International Workshop, ADG 2004, Gainesville, FL, USA, September 16-18, 2004, Revised Papers (Lecture Notes in Computer ... / Lecture Notes in Artificial Intelligence)\n",
      "#@Hoon Hong,Dongming Wang\n",
      "#t2006\n",
      "#c\n",
      "#index0\n"
     ]
    }
   ],
   "source": [
    "sample=''.join(lines)\n",
    "records=sample.split('\\n\\n')\n",
    "print(len(records))\n",
    "print(records[0])"
   ]
  },
  {
   "cell_type": "code",
   "execution_count": 11,
   "metadata": {},
   "outputs": [],
   "source": [
    "class Node:\n",
    "    def __init__(self, data):\n",
    "        self.data = data\n",
    "    def __hash__(self):\n",
    "        return self.data[TAG_IDX]\n",
    "def parse_record(r):\n",
    "    rv = {\n",
    "        TAG_TITLE: None,\n",
    "        TAG_AUTHORS: None,\n",
    "        TAG_YEAR: None,\n",
    "        TAG_VENUE: None,\n",
    "        TAG_IDX: None,\n",
    "        TAG_REF: [],\n",
    "        TAG_ABS: None\n",
    "    }\n",
    "    for k in r.split('\\n'):\n",
    "        if k.startswith(TAG_TITLE):\n",
    "            rv[TAG_TITLE] = k.replace(TAG_TITLE, '')\n",
    "        elif k.startswith(TAG_AUTHORS):\n",
    "            rv[TAG_AUTHORS] = k.replace(TAG_AUTHORS, '')\n",
    "        elif k.startswith(TAG_YEAR):\n",
    "            rv[TAG_YEAR] = k.replace(TAG_YEAR, '')\n",
    "        elif k.startswith(TAG_VENUE):\n",
    "            rv[TAG_VENUE] = k.replace(TAG_VENUE, '')\n",
    "        elif k.startswith(TAG_IDX):\n",
    "            rv[TAG_IDX] = int(k.replace(TAG_IDX, ''))\n",
    "        elif k.startswith(TAG_REF):\n",
    "            rv[TAG_REF].append(int(k.replace(TAG_REF, '')))\n",
    "        elif k.startswith(TAG_ABS):\n",
    "            rv[TAG_ABS] = k.replace(TAG_ABS, '')\n",
    "        pass\n",
    "    return Node(data=rv)"
   ]
  },
  {
   "cell_type": "code",
   "execution_count": 12,
   "metadata": {},
   "outputs": [
    {
     "data": {
      "text/plain": [
       "'\\nTODO: parse all nodes, then drop all nodes that are not referenced by any others\\nor are not referencing other nodes.\\n'"
      ]
     },
     "execution_count": 12,
     "metadata": {},
     "output_type": "execute_result"
    }
   ],
   "source": [
    "\"\"\"\n",
    "TODO: parse all nodes, then drop all nodes that are not referenced by any others\n",
    "or are not referencing other nodes.\n",
    "\"\"\""
   ]
  },
  {
   "cell_type": "code",
   "execution_count": 13,
   "metadata": {},
   "outputs": [
    {
     "name": "stdout",
     "output_type": "stream",
     "text": [
      "[5, 436405, 17, 357875, 214023, 317448, 319987, 334185, 95255, 294124, 96319, 610127, 24, 251778, 436906, 623227, 287885, 35, 247215, 618899, 53, 159598, 603894, 586607, 471174, 87254, 302739, 449562]\n"
     ]
    }
   ],
   "source": [
    "# Add all records to a graph\n",
    "G = nx.Graph()\n",
    "useful_indices = []\n",
    "\n",
    "for record in records:\n",
    "    node = parse_record(record)\n",
    "    if node.data[TAG_REF] != []:\n",
    "        G.add_node(node.data[TAG_IDX]) # Add only if has refs\n",
    "        useful_indices.append(node.data[TAG_IDX])\n",
    "        for ref in node.data[TAG_REF]:\n",
    "            useful_indices.append(ref)\n",
    "            G.add_node(ref)\n",
    "            G.add_edge(node.data[TAG_IDX], ref)\n",
    "\n",
    "print(useful_indices)"
   ]
  },
  {
   "cell_type": "code",
   "execution_count": 14,
   "metadata": {},
   "outputs": [],
   "source": [
    "# Relabel nodes\n",
    "G = nx.relabel_nodes(G, lambda x: hash(x))"
   ]
  },
  {
   "cell_type": "code",
   "execution_count": 15,
   "metadata": {
    "scrolled": false
   },
   "outputs": [
    {
     "data": {
      "image/png": "[encoded data removed]",
      "text/plain": [
       "<Figure size 432x288 with 1 Axes>"
      ]
     },
     "metadata": {},
     "output_type": "display_data"
    }
   ],
   "source": [
    "nx.draw(G, with_labels=True, edge_color='b')"
   ]
  },
  {
   "cell_type": "code",
   "execution_count": 17,
   "metadata": {},
   "outputs": [
    {
     "ename": "AttributeError",
     "evalue": "module 'networkx' has no attribute 'connected_component_subgraphs'",
     "output_type": "error",
     "traceback": [
      "\u001b[0;31m---------------------------------------------------------------------------\u001b[0m",
      "\u001b[0;31mAttributeError\u001b[0m                            Traceback (most recent call last)",
      "\u001b[0;32m<ipython-input-17-92968ae21e80>\u001b[0m in \u001b[0;36m<module>\u001b[0;34m\u001b[0m\n\u001b[0;32m----> 1\u001b[0;31m \u001b[0mcomps\u001b[0m \u001b[0;34m=\u001b[0m \u001b[0mlist\u001b[0m\u001b[0;34m(\u001b[0m\u001b[0mnx\u001b[0m\u001b[0;34m.\u001b[0m\u001b[0mconnected_component_subgraphs\u001b[0m\u001b[0;34m(\u001b[0m\u001b[0mG\u001b[0m\u001b[0;34m)\u001b[0m\u001b[0;34m)\u001b[0m\u001b[0;34m\u001b[0m\u001b[0;34m\u001b[0m\u001b[0m\n\u001b[0m",
      "\u001b[0;31mAttributeError\u001b[0m: module 'networkx' has no attribute 'connected_component_subgraphs'"
     ]
    }
   ],
   "source": [
    "comps = list(nx.connected_component_subgraphs(G))"
   ]
  },
  {
   "cell_type": "code",
   "execution_count": null,
   "metadata": {},
   "outputs": [],
   "source": [
    "for comp in comps:\n",
    "    plt.figure(figsize=(6,4), dpi=80)\n",
    "    nx.draw(comp, with_labels=True, edge_color='b')"
   ]
  },
  {
   "cell_type": "code",
   "execution_count": null,
   "metadata": {},
   "outputs": [],
   "source": [
    "# Add edges \n",
    "for n in enumerate(G.nodes()):\n",
    "    print(n)"
   ]
  },
  {
   "cell_type": "code",
   "execution_count": null,
   "metadata": {},
   "outputs": [],
   "source": [
    "G = nx.Graph()\n",
    "G.add_node(node.data[TAG_IDX])\n",
    "G.add_node(2)\n",
    "G.add_edge(node.data[TAG_IDX],3)\n",
    "\n",
    "nx.draw(G, with_labels=True, edge_color='b')"
   ]
  },
  {
   "cell_type": "code",
   "execution_count": null,
   "metadata": {},
   "outputs": [],
   "source": []
  }
 ],
 "metadata": {
  "kernelspec": {
   "display_name": "Python 3",
   "language": "python",
   "name": "python3"
  },
  "language_info": {
   "codemirror_mode": {
    "name": "ipython",
    "version": 3
   },
   "file_extension": ".py",
   "mimetype": "text/x-python",
   "name": "python",
   "nbconvert_exporter": "python",
   "pygments_lexer": "ipython3",
   "version": "3.7.3"
  }
 },
 "nbformat": 4,
 "nbformat_minor": 2
}
